{
 "cells": [
  {
   "cell_type": "markdown",
   "metadata": {},
   "source": [
    "# Python_Lab_1.2"
   ]
  },
  {
   "cell_type": "markdown",
   "metadata": {},
   "source": [
    "### Task 1: \n",
    "1. Create a tuple with the following details:\n",
    "    - Your favorite movie (string)\n",
    "    - The year it was released (integer)\n",
    "    - Its rating out of 10 (float)\n",
    "    - Whether you have watched it (boolean)\n",
    "2. Print the detailes"
   ]
  },
  {
   "cell_type": "code",
   "execution_count": 1,
   "metadata": {},
   "outputs": [
    {
     "name": "stdout",
     "output_type": "stream",
     "text": [
      "Favorite Movie: oppenheimer\n",
      "Year Released: 2023\n",
      "Rating out of 10: 8.3\n",
      "Have you watched it? Yes\n"
     ]
    }
   ],
   "source": [
    "# write your code here ^_^\n",
    "\n",
    "favorite_movie_details = (\"oppenheimer\", 2023, 8.3, True)\n",
    "\n",
    "print(f\"Favorite Movie: {favorite_movie_details[0]}\")\n",
    "print(f\"Year Released: {favorite_movie_details[1]}\")\n",
    "print(f\"Rating out of 10: {favorite_movie_details[2]}\")\n",
    "print(f\"Have you watched it? {'Yes' if favorite_movie_details[3] else 'No'}\")\n"
   ]
  },
  {
   "cell_type": "markdown",
   "metadata": {},
   "source": [
    "### Task 2:\n",
    "1. Create a set of 5 favorite colors.\n",
    "2. Print all the colors"
   ]
  },
  {
   "cell_type": "code",
   "execution_count": 2,
   "metadata": {},
   "outputs": [
    {
     "name": "stdout",
     "output_type": "stream",
     "text": [
      "<class 'set'>\n",
      "Black\n",
      "White\n",
      "Blue\n",
      "Green\n",
      "Red\n"
     ]
    }
   ],
   "source": [
    "# write your code here ^_^\n",
    "\n",
    "favorite_colors = {\"Blue\", \"Green\", \"Red\", \"Black\", \"White\"}\n",
    "print(type(favorite_colors))\n",
    "\n",
    "for color in favorite_colors:\n",
    "    print(color)\n"
   ]
  },
  {
   "cell_type": "markdown",
   "metadata": {},
   "source": [
    "### Task 3:\n",
    "1. Create a dictionary to store information about 3 friends (name as key and a tuple with age and favorite hobby as value).\n",
    "2. Print the details of all friends."
   ]
  },
  {
   "cell_type": "code",
   "execution_count": null,
   "metadata": {},
   "outputs": [],
   "source": [
    "# write your code here ^_^\n",
    "\n",
    "friends_info = {\n",
    "    \"ahmad\": (23, \"Cybersecurity\"),\n",
    "    \"omar\": (22, \"Football\"),\n",
    "    \"ali\": (18, \"Gaming\")\n",
    "}\n",
    "\n",
    "for name, details in friends_info.items():\n",
    "    age, hobby = details\n",
    "    print(f\"Name: {name}, Age: {age}, Favorite Hobby: {hobby}\")\n"
   ]
  },
  {
   "cell_type": "markdown",
   "metadata": {},
   "source": [
    "### Task 4:\n",
    "1. Check if you have watched the movie and print an appropriate message.\n",
    "1. Check if a specific color is in your favorite colors set and print its availability status."
   ]
  },
  {
   "cell_type": "code",
   "execution_count": 3,
   "metadata": {},
   "outputs": [
    {
     "name": "stdout",
     "output_type": "stream",
     "text": [
      "I have watched the movie.\n",
      "The color Blue is in my favorite colors set.\n"
     ]
    }
   ],
   "source": [
    "# write your code here ^_^\n",
    "if favorite_movie_details[3]:\n",
    "    print(\"I have watched the movie.\")\n",
    "else:\n",
    "    print(\"I have not watched the movie.\")\n",
    "\n",
    "specific_color = \"Blue\"\n",
    "\n",
    "if specific_color in favorite_colors:\n",
    "    print(f\"The color {specific_color} is in my favorite colors set.\")\n",
    "else:\n",
    "    print(f\"The color {specific_color} is not in my favorite colors set.\")"
   ]
  },
  {
   "cell_type": "markdown",
   "metadata": {},
   "source": []
  }
 ],
 "metadata": {
  "kernelspec": {
   "display_name": "Python 3 (ipykernel)",
   "language": "python",
   "name": "python3"
  },
  "language_info": {
   "codemirror_mode": {
    "name": "ipython",
    "version": 3
   },
   "file_extension": ".py",
   "mimetype": "text/x-python",
   "name": "python",
   "nbconvert_exporter": "python",
   "pygments_lexer": "ipython3",
   "version": "3.10.9"
  }
 },
 "nbformat": 4,
 "nbformat_minor": 2
}
